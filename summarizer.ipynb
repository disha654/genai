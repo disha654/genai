{
 "cells": [
  {
   "cell_type": "code",
   "execution_count": 1,
   "id": "eaa627ea-e5de-43d7-ab80-7ba04b86e11f",
   "metadata": {},
   "outputs": [
    {
     "name": "stderr",
     "output_type": "stream",
     "text": [
      "Device set to use cpu\n"
     ]
    },
    {
     "name": "stdout",
     "output_type": "stream",
     "text": [
      "Summary:  Artificial Intelligence (AI) is a simulation of Human Intelligence processes by machines, especially computer systems . The processes include learning, reasoning, and self-correction . AI has many applications in today's society, including in hospitals, finance,\n"
     ]
    }
   ],
   "source": [
    "from transformers import pipeline\n",
    "\n",
    "# Use summarization pipeline\n",
    "summarizer = pipeline(\"summarization\", model=\"sshleifer/distilbart-cnn-12-6\")\n",
    "\n",
    "# Input text\n",
    "text = \"\"\"\n",
    "Artificial Intelligence (AI) is a simulation of Human Intelligence processes by machines,\n",
    "especially computer systems. The processes include learning, reasoning, and self-correction.\n",
    "AI has many applications in today's society, including in hospitals, finance, and transportation.\n",
    "\"\"\"\n",
    "\n",
    "# Generate summary\n",
    "summary = summarizer(text, max_length=50, min_length=20, do_sample=False)\n",
    "\n",
    "# Print summary\n",
    "print(\"Summary:\", summary[0]['summary_text'])\n"
   ]
  },
  {
   "cell_type": "code",
   "execution_count": null,
   "id": "1c470ab3-d278-4e05-9701-ec046d9cb130",
   "metadata": {},
   "outputs": [],
   "source": []
  }
 ],
 "metadata": {
  "kernelspec": {
   "display_name": "Python 3 (ipykernel)",
   "language": "python",
   "name": "python3"
  },
  "language_info": {
   "codemirror_mode": {
    "name": "ipython",
    "version": 3
   },
   "file_extension": ".py",
   "mimetype": "text/x-python",
   "name": "python",
   "nbconvert_exporter": "python",
   "pygments_lexer": "ipython3",
   "version": "3.12.7"
  }
 },
 "nbformat": 4,
 "nbformat_minor": 5
}
