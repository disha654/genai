{
 "cells": [
  {
   "cell_type": "code",
   "execution_count": 2,
   "id": "50e49bf0-f102-4ddc-8198-4d7a3bf747c0",
   "metadata": {},
   "outputs": [
    {
     "name": "stdout",
     "output_type": "stream",
     "text": [
      "\n",
      "Generated Paragraph:\n",
      "\n",
      "One day, I wandered into a woodland. It was filled with habitat trees and the sound of forests. Nearby, a woodlands path led deeper into the wildlife unknown.\n"
     ]
    }
   ],
   "source": [
    "from gensim.downloader import load\n",
    "import random\n",
    "\n",
    "# Load a small pre-trained word vector model\n",
    "model = load(\"glove-wiki-gigaword-50\")\n",
    "\n",
    "# Step 1: Input seed word\n",
    "seed_word = \"forest\"\n",
    "\n",
    "# Step 2: Get similar words\n",
    "if seed_word in model:\n",
    "    similar_words = [w for w, _ in model.most_similar(seed_word, topn=5)]\n",
    "else:\n",
    "    print(\"Word not in vocabulary.\")\n",
    "    similar_words = []\n",
    "\n",
    "# Step 3: Create a paragraph using the words\n",
    "all_words = [seed_word] + similar_words\n",
    "random.shuffle(all_words)\n",
    "\n",
    "paragraph = f\"One day, I wandered into a {all_words[0]}. It was filled with {all_words[1]} trees and the sound of {all_words[2]}. Nearby, a {all_words[3]} path led deeper into the {all_words[4]} unknown.\"\n",
    "\n",
    "# Step 4: Output the result\n",
    "print(\"\\nGenerated Paragraph:\\n\")\n",
    "print(paragraph)\n"
   ]
  },
  {
   "cell_type": "code",
   "execution_count": null,
   "id": "0b4d7357-d99f-4e0b-89ee-a6c1bf211e74",
   "metadata": {},
   "outputs": [],
   "source": []
  }
 ],
 "metadata": {
  "kernelspec": {
   "display_name": "Python 3 (ipykernel)",
   "language": "python",
   "name": "python3"
  },
  "language_info": {
   "codemirror_mode": {
    "name": "ipython",
    "version": 3
   },
   "file_extension": ".py",
   "mimetype": "text/x-python",
   "name": "python",
   "nbconvert_exporter": "python",
   "pygments_lexer": "ipython3",
   "version": "3.12.7"
  }
 },
 "nbformat": 4,
 "nbformat_minor": 5
}
