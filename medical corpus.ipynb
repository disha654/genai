{
 "cells": [
  {
   "cell_type": "code",
   "execution_count": 2,
   "id": "f6434cc2-b678-4840-92b2-c2140a18d9e1",
   "metadata": {},
   "outputs": [
    {
     "name": "stdout",
     "output_type": "stream",
     "text": [
      "[('monitored', 0.2300988733768463), ('lead', 0.16088257730007172), ('can', 0.1489810049533844), ('patient', 0.12488273531198502), ('glucose', 0.08092986047267914), ('with', 0.07396036386489868), ('the', 0.05544114112854004), ('was', 0.042607005685567856), ('diagnosed', 0.018249208107590675), ('should', 0.011428711004555225)]\n"
     ]
    }
   ],
   "source": [
    "from gensim.models import Word2Vec\n",
    "\n",
    "# Small medical corpus\n",
    "corpus = [\n",
    "    [\"the\", \"patient\", \"was\", \"diagnosed\", \"with\", \"diabetes\"],\n",
    "    [\"insulin\", \"therapy\", \"was\", \"prescribed\", \"for\", \"diabetes\"],\n",
    "    [\"blood\", \"glucose\", \"levels\", \"should\", \"be\", \"monitored\"],\n",
    "    [\"hypertension\", \"can\", \"lead\", \"to\", \"cardiovascular\", \"disease\"]\n",
    "]\n",
    "\n",
    "# Train Word2Vec model\n",
    "model = Word2Vec(sentences=corpus, vector_size=50, window=3, min_count=1, workers=2)\n",
    "\n",
    "# Save model (optional)\n",
    "model.save(\"medical_word2vec.model\")\n",
    "\n",
    "# Example: Check similar words to \"diabetes\"\n",
    "similar = model.wv.most_similar(\"diabetes\")\n",
    "print(similar)\n"
   ]
  },
  {
   "cell_type": "code",
   "execution_count": null,
   "id": "5918568f-b643-455d-965b-42f41be60718",
   "metadata": {},
   "outputs": [],
   "source": []
  }
 ],
 "metadata": {
  "kernelspec": {
   "display_name": "Python 3 (ipykernel)",
   "language": "python",
   "name": "python3"
  },
  "language_info": {
   "codemirror_mode": {
    "name": "ipython",
    "version": 3
   },
   "file_extension": ".py",
   "mimetype": "text/x-python",
   "name": "python",
   "nbconvert_exporter": "python",
   "pygments_lexer": "ipython3",
   "version": "3.12.7"
  }
 },
 "nbformat": 4,
 "nbformat_minor": 5
}
