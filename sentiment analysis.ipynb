{
 "cells": [
  {
   "cell_type": "code",
   "execution_count": 4,
   "id": "c84cb43f-ad75-4921-83b8-64037ad656d5",
   "metadata": {},
   "outputs": [
    {
     "name": "stderr",
     "output_type": "stream",
     "text": [
      "Device set to use cpu\n"
     ]
    },
    {
     "name": "stdout",
     "output_type": "stream",
     "text": [
      "Text: I love this!\n",
      "Sentiment: POSITIVE (1.00)\n",
      "\n",
      "Text: This is bad.\n",
      "Sentiment: NEGATIVE (1.00)\n",
      "\n",
      "Text: It's fine.\n",
      "Sentiment: POSITIVE (1.00)\n",
      "\n"
     ]
    }
   ],
   "source": [
    "from transformers import pipeline\n",
    "\n",
    "analyze = pipeline(\"sentiment-analysis\", model=\"distilbert/distilbert-base-uncased-finetuned-sst-2-english\")\n",
    "\n",
    "texts = [\"I love this!\", \"This is bad.\", \"It's fine.\"]\n",
    "\n",
    "for text, result in zip(texts, analyze(texts)):\n",
    "    print(f\"Text: {text}\\nSentiment: {result['label']} ({result['score']:.2f})\\n\")\n"
   ]
  },
  {
   "cell_type": "code",
   "execution_count": null,
   "id": "e1230289-7ae5-4f8e-927f-869a977c13f0",
   "metadata": {},
   "outputs": [],
   "source": []
  }
 ],
 "metadata": {
  "kernelspec": {
   "display_name": "Python 3 (ipykernel)",
   "language": "python",
   "name": "python3"
  },
  "language_info": {
   "codemirror_mode": {
    "name": "ipython",
    "version": 3
   },
   "file_extension": ".py",
   "mimetype": "text/x-python",
   "name": "python",
   "nbconvert_exporter": "python",
   "pygments_lexer": "ipython3",
   "version": "3.12.7"
  }
 },
 "nbformat": 4,
 "nbformat_minor": 5
}
